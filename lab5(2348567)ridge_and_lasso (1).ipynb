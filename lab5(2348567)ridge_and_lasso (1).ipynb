{
  "nbformat": 4,
  "nbformat_minor": 0,
  "metadata": {
    "colab": {
      "provenance": []
    },
    "kernelspec": {
      "name": "python3",
      "display_name": "Python 3"
    },
    "language_info": {
      "name": "python"
    }
  },
  "cells": [
    {
      "cell_type": "code",
      "execution_count": 1,
      "metadata": {
        "id": "LPz1lee6ASXs"
      },
      "outputs": [],
      "source": [
        "import numpy as np\n",
        "import pandas as pd\n",
        "import matplotlib.pyplot as plt\n",
        "import seaborn as sns"
      ]
    },
    {
      "cell_type": "code",
      "source": [
        "d=pd.read_csv(\"/content/program_5_dataset.csv\")"
      ],
      "metadata": {
        "id": "4bgyyLFFM9he"
      },
      "execution_count": 2,
      "outputs": []
    },
    {
      "cell_type": "code",
      "source": [
        "d.head()"
      ],
      "metadata": {
        "colab": {
          "base_uri": "https://localhost:8080/",
          "height": 206
        },
        "id": "LBv8GFSUNFng",
        "outputId": "ef20891e-25a2-43dc-caa7-b2b0c73b2ab1"
      },
      "execution_count": 3,
      "outputs": [
        {
          "output_type": "execute_result",
          "data": {
            "text/plain": [
              "   Unnamed: 0       Category  Age Sex   ALB   ALP   ALT   AST   BIL    CHE  \\\n",
              "0           1  0=Blood Donor   32   m  38.5  52.5   7.7  22.1   7.5   6.93   \n",
              "1           2  0=Blood Donor   32   m  38.5  70.3  18.0  24.7   3.9  11.17   \n",
              "2           3  0=Blood Donor   32   m  46.9  74.7  36.2  52.6   6.1   8.84   \n",
              "3           4  0=Blood Donor   32   m  43.2  52.0  30.6  22.6  18.9   7.33   \n",
              "4           5  0=Blood Donor   32   m  39.2  74.1  32.6  24.8   9.6   9.15   \n",
              "\n",
              "   CHOL   CREA   GGT  PROT  \n",
              "0  3.23  106.0  12.1  69.0  \n",
              "1  4.80   74.0  15.6  76.5  \n",
              "2  5.20   86.0  33.2  79.3  \n",
              "3  4.74   80.0  33.8  75.7  \n",
              "4  4.32   76.0  29.9  68.7  "
            ],
            "text/html": [
              "\n",
              "  <div id=\"df-99826ebe-057c-4117-87c4-74fcd6c6638b\" class=\"colab-df-container\">\n",
              "    <div>\n",
              "<style scoped>\n",
              "    .dataframe tbody tr th:only-of-type {\n",
              "        vertical-align: middle;\n",
              "    }\n",
              "\n",
              "    .dataframe tbody tr th {\n",
              "        vertical-align: top;\n",
              "    }\n",
              "\n",
              "    .dataframe thead th {\n",
              "        text-align: right;\n",
              "    }\n",
              "</style>\n",
              "<table border=\"1\" class=\"dataframe\">\n",
              "  <thead>\n",
              "    <tr style=\"text-align: right;\">\n",
              "      <th></th>\n",
              "      <th>Unnamed: 0</th>\n",
              "      <th>Category</th>\n",
              "      <th>Age</th>\n",
              "      <th>Sex</th>\n",
              "      <th>ALB</th>\n",
              "      <th>ALP</th>\n",
              "      <th>ALT</th>\n",
              "      <th>AST</th>\n",
              "      <th>BIL</th>\n",
              "      <th>CHE</th>\n",
              "      <th>CHOL</th>\n",
              "      <th>CREA</th>\n",
              "      <th>GGT</th>\n",
              "      <th>PROT</th>\n",
              "    </tr>\n",
              "  </thead>\n",
              "  <tbody>\n",
              "    <tr>\n",
              "      <th>0</th>\n",
              "      <td>1</td>\n",
              "      <td>0=Blood Donor</td>\n",
              "      <td>32</td>\n",
              "      <td>m</td>\n",
              "      <td>38.5</td>\n",
              "      <td>52.5</td>\n",
              "      <td>7.7</td>\n",
              "      <td>22.1</td>\n",
              "      <td>7.5</td>\n",
              "      <td>6.93</td>\n",
              "      <td>3.23</td>\n",
              "      <td>106.0</td>\n",
              "      <td>12.1</td>\n",
              "      <td>69.0</td>\n",
              "    </tr>\n",
              "    <tr>\n",
              "      <th>1</th>\n",
              "      <td>2</td>\n",
              "      <td>0=Blood Donor</td>\n",
              "      <td>32</td>\n",
              "      <td>m</td>\n",
              "      <td>38.5</td>\n",
              "      <td>70.3</td>\n",
              "      <td>18.0</td>\n",
              "      <td>24.7</td>\n",
              "      <td>3.9</td>\n",
              "      <td>11.17</td>\n",
              "      <td>4.80</td>\n",
              "      <td>74.0</td>\n",
              "      <td>15.6</td>\n",
              "      <td>76.5</td>\n",
              "    </tr>\n",
              "    <tr>\n",
              "      <th>2</th>\n",
              "      <td>3</td>\n",
              "      <td>0=Blood Donor</td>\n",
              "      <td>32</td>\n",
              "      <td>m</td>\n",
              "      <td>46.9</td>\n",
              "      <td>74.7</td>\n",
              "      <td>36.2</td>\n",
              "      <td>52.6</td>\n",
              "      <td>6.1</td>\n",
              "      <td>8.84</td>\n",
              "      <td>5.20</td>\n",
              "      <td>86.0</td>\n",
              "      <td>33.2</td>\n",
              "      <td>79.3</td>\n",
              "    </tr>\n",
              "    <tr>\n",
              "      <th>3</th>\n",
              "      <td>4</td>\n",
              "      <td>0=Blood Donor</td>\n",
              "      <td>32</td>\n",
              "      <td>m</td>\n",
              "      <td>43.2</td>\n",
              "      <td>52.0</td>\n",
              "      <td>30.6</td>\n",
              "      <td>22.6</td>\n",
              "      <td>18.9</td>\n",
              "      <td>7.33</td>\n",
              "      <td>4.74</td>\n",
              "      <td>80.0</td>\n",
              "      <td>33.8</td>\n",
              "      <td>75.7</td>\n",
              "    </tr>\n",
              "    <tr>\n",
              "      <th>4</th>\n",
              "      <td>5</td>\n",
              "      <td>0=Blood Donor</td>\n",
              "      <td>32</td>\n",
              "      <td>m</td>\n",
              "      <td>39.2</td>\n",
              "      <td>74.1</td>\n",
              "      <td>32.6</td>\n",
              "      <td>24.8</td>\n",
              "      <td>9.6</td>\n",
              "      <td>9.15</td>\n",
              "      <td>4.32</td>\n",
              "      <td>76.0</td>\n",
              "      <td>29.9</td>\n",
              "      <td>68.7</td>\n",
              "    </tr>\n",
              "  </tbody>\n",
              "</table>\n",
              "</div>\n",
              "    <div class=\"colab-df-buttons\">\n",
              "\n",
              "  <div class=\"colab-df-container\">\n",
              "    <button class=\"colab-df-convert\" onclick=\"convertToInteractive('df-99826ebe-057c-4117-87c4-74fcd6c6638b')\"\n",
              "            title=\"Convert this dataframe to an interactive table.\"\n",
              "            style=\"display:none;\">\n",
              "\n",
              "  <svg xmlns=\"http://www.w3.org/2000/svg\" height=\"24px\" viewBox=\"0 -960 960 960\">\n",
              "    <path d=\"M120-120v-720h720v720H120Zm60-500h600v-160H180v160Zm220 220h160v-160H400v160Zm0 220h160v-160H400v160ZM180-400h160v-160H180v160Zm440 0h160v-160H620v160ZM180-180h160v-160H180v160Zm440 0h160v-160H620v160Z\"/>\n",
              "  </svg>\n",
              "    </button>\n",
              "\n",
              "  <style>\n",
              "    .colab-df-container {\n",
              "      display:flex;\n",
              "      gap: 12px;\n",
              "    }\n",
              "\n",
              "    .colab-df-convert {\n",
              "      background-color: #E8F0FE;\n",
              "      border: none;\n",
              "      border-radius: 50%;\n",
              "      cursor: pointer;\n",
              "      display: none;\n",
              "      fill: #1967D2;\n",
              "      height: 32px;\n",
              "      padding: 0 0 0 0;\n",
              "      width: 32px;\n",
              "    }\n",
              "\n",
              "    .colab-df-convert:hover {\n",
              "      background-color: #E2EBFA;\n",
              "      box-shadow: 0px 1px 2px rgba(60, 64, 67, 0.3), 0px 1px 3px 1px rgba(60, 64, 67, 0.15);\n",
              "      fill: #174EA6;\n",
              "    }\n",
              "\n",
              "    .colab-df-buttons div {\n",
              "      margin-bottom: 4px;\n",
              "    }\n",
              "\n",
              "    [theme=dark] .colab-df-convert {\n",
              "      background-color: #3B4455;\n",
              "      fill: #D2E3FC;\n",
              "    }\n",
              "\n",
              "    [theme=dark] .colab-df-convert:hover {\n",
              "      background-color: #434B5C;\n",
              "      box-shadow: 0px 1px 3px 1px rgba(0, 0, 0, 0.15);\n",
              "      filter: drop-shadow(0px 1px 2px rgba(0, 0, 0, 0.3));\n",
              "      fill: #FFFFFF;\n",
              "    }\n",
              "  </style>\n",
              "\n",
              "    <script>\n",
              "      const buttonEl =\n",
              "        document.querySelector('#df-99826ebe-057c-4117-87c4-74fcd6c6638b button.colab-df-convert');\n",
              "      buttonEl.style.display =\n",
              "        google.colab.kernel.accessAllowed ? 'block' : 'none';\n",
              "\n",
              "      async function convertToInteractive(key) {\n",
              "        const element = document.querySelector('#df-99826ebe-057c-4117-87c4-74fcd6c6638b');\n",
              "        const dataTable =\n",
              "          await google.colab.kernel.invokeFunction('convertToInteractive',\n",
              "                                                    [key], {});\n",
              "        if (!dataTable) return;\n",
              "\n",
              "        const docLinkHtml = 'Like what you see? Visit the ' +\n",
              "          '<a target=\"_blank\" href=https://colab.research.google.com/notebooks/data_table.ipynb>data table notebook</a>'\n",
              "          + ' to learn more about interactive tables.';\n",
              "        element.innerHTML = '';\n",
              "        dataTable['output_type'] = 'display_data';\n",
              "        await google.colab.output.renderOutput(dataTable, element);\n",
              "        const docLink = document.createElement('div');\n",
              "        docLink.innerHTML = docLinkHtml;\n",
              "        element.appendChild(docLink);\n",
              "      }\n",
              "    </script>\n",
              "  </div>\n",
              "\n",
              "\n",
              "<div id=\"df-57a03913-ce46-43ba-a4fd-e581922b435b\">\n",
              "  <button class=\"colab-df-quickchart\" onclick=\"quickchart('df-57a03913-ce46-43ba-a4fd-e581922b435b')\"\n",
              "            title=\"Suggest charts\"\n",
              "            style=\"display:none;\">\n",
              "\n",
              "<svg xmlns=\"http://www.w3.org/2000/svg\" height=\"24px\"viewBox=\"0 0 24 24\"\n",
              "     width=\"24px\">\n",
              "    <g>\n",
              "        <path d=\"M19 3H5c-1.1 0-2 .9-2 2v14c0 1.1.9 2 2 2h14c1.1 0 2-.9 2-2V5c0-1.1-.9-2-2-2zM9 17H7v-7h2v7zm4 0h-2V7h2v10zm4 0h-2v-4h2v4z\"/>\n",
              "    </g>\n",
              "</svg>\n",
              "  </button>\n",
              "\n",
              "<style>\n",
              "  .colab-df-quickchart {\n",
              "      --bg-color: #E8F0FE;\n",
              "      --fill-color: #1967D2;\n",
              "      --hover-bg-color: #E2EBFA;\n",
              "      --hover-fill-color: #174EA6;\n",
              "      --disabled-fill-color: #AAA;\n",
              "      --disabled-bg-color: #DDD;\n",
              "  }\n",
              "\n",
              "  [theme=dark] .colab-df-quickchart {\n",
              "      --bg-color: #3B4455;\n",
              "      --fill-color: #D2E3FC;\n",
              "      --hover-bg-color: #434B5C;\n",
              "      --hover-fill-color: #FFFFFF;\n",
              "      --disabled-bg-color: #3B4455;\n",
              "      --disabled-fill-color: #666;\n",
              "  }\n",
              "\n",
              "  .colab-df-quickchart {\n",
              "    background-color: var(--bg-color);\n",
              "    border: none;\n",
              "    border-radius: 50%;\n",
              "    cursor: pointer;\n",
              "    display: none;\n",
              "    fill: var(--fill-color);\n",
              "    height: 32px;\n",
              "    padding: 0;\n",
              "    width: 32px;\n",
              "  }\n",
              "\n",
              "  .colab-df-quickchart:hover {\n",
              "    background-color: var(--hover-bg-color);\n",
              "    box-shadow: 0 1px 2px rgba(60, 64, 67, 0.3), 0 1px 3px 1px rgba(60, 64, 67, 0.15);\n",
              "    fill: var(--button-hover-fill-color);\n",
              "  }\n",
              "\n",
              "  .colab-df-quickchart-complete:disabled,\n",
              "  .colab-df-quickchart-complete:disabled:hover {\n",
              "    background-color: var(--disabled-bg-color);\n",
              "    fill: var(--disabled-fill-color);\n",
              "    box-shadow: none;\n",
              "  }\n",
              "\n",
              "  .colab-df-spinner {\n",
              "    border: 2px solid var(--fill-color);\n",
              "    border-color: transparent;\n",
              "    border-bottom-color: var(--fill-color);\n",
              "    animation:\n",
              "      spin 1s steps(1) infinite;\n",
              "  }\n",
              "\n",
              "  @keyframes spin {\n",
              "    0% {\n",
              "      border-color: transparent;\n",
              "      border-bottom-color: var(--fill-color);\n",
              "      border-left-color: var(--fill-color);\n",
              "    }\n",
              "    20% {\n",
              "      border-color: transparent;\n",
              "      border-left-color: var(--fill-color);\n",
              "      border-top-color: var(--fill-color);\n",
              "    }\n",
              "    30% {\n",
              "      border-color: transparent;\n",
              "      border-left-color: var(--fill-color);\n",
              "      border-top-color: var(--fill-color);\n",
              "      border-right-color: var(--fill-color);\n",
              "    }\n",
              "    40% {\n",
              "      border-color: transparent;\n",
              "      border-right-color: var(--fill-color);\n",
              "      border-top-color: var(--fill-color);\n",
              "    }\n",
              "    60% {\n",
              "      border-color: transparent;\n",
              "      border-right-color: var(--fill-color);\n",
              "    }\n",
              "    80% {\n",
              "      border-color: transparent;\n",
              "      border-right-color: var(--fill-color);\n",
              "      border-bottom-color: var(--fill-color);\n",
              "    }\n",
              "    90% {\n",
              "      border-color: transparent;\n",
              "      border-bottom-color: var(--fill-color);\n",
              "    }\n",
              "  }\n",
              "</style>\n",
              "\n",
              "  <script>\n",
              "    async function quickchart(key) {\n",
              "      const quickchartButtonEl =\n",
              "        document.querySelector('#' + key + ' button');\n",
              "      quickchartButtonEl.disabled = true;  // To prevent multiple clicks.\n",
              "      quickchartButtonEl.classList.add('colab-df-spinner');\n",
              "      try {\n",
              "        const charts = await google.colab.kernel.invokeFunction(\n",
              "            'suggestCharts', [key], {});\n",
              "      } catch (error) {\n",
              "        console.error('Error during call to suggestCharts:', error);\n",
              "      }\n",
              "      quickchartButtonEl.classList.remove('colab-df-spinner');\n",
              "      quickchartButtonEl.classList.add('colab-df-quickchart-complete');\n",
              "    }\n",
              "    (() => {\n",
              "      let quickchartButtonEl =\n",
              "        document.querySelector('#df-57a03913-ce46-43ba-a4fd-e581922b435b button');\n",
              "      quickchartButtonEl.style.display =\n",
              "        google.colab.kernel.accessAllowed ? 'block' : 'none';\n",
              "    })();\n",
              "  </script>\n",
              "</div>\n",
              "    </div>\n",
              "  </div>\n"
            ]
          },
          "metadata": {},
          "execution_count": 3
        }
      ]
    },
    {
      "cell_type": "code",
      "source": [
        "d.shape"
      ],
      "metadata": {
        "colab": {
          "base_uri": "https://localhost:8080/"
        },
        "id": "pgqb40v0NHVr",
        "outputId": "ad7e01ae-7d25-4da9-d96f-bff6a4049c58"
      },
      "execution_count": 4,
      "outputs": [
        {
          "output_type": "execute_result",
          "data": {
            "text/plain": [
              "(615, 14)"
            ]
          },
          "metadata": {},
          "execution_count": 4
        }
      ]
    },
    {
      "cell_type": "code",
      "source": [
        "d.info()"
      ],
      "metadata": {
        "colab": {
          "base_uri": "https://localhost:8080/"
        },
        "id": "k9m51_wlNJ0p",
        "outputId": "54082d56-ff4d-47de-dd30-cef3c7c51168"
      },
      "execution_count": 5,
      "outputs": [
        {
          "output_type": "stream",
          "name": "stdout",
          "text": [
            "<class 'pandas.core.frame.DataFrame'>\n",
            "RangeIndex: 615 entries, 0 to 614\n",
            "Data columns (total 14 columns):\n",
            " #   Column      Non-Null Count  Dtype  \n",
            "---  ------      --------------  -----  \n",
            " 0   Unnamed: 0  615 non-null    int64  \n",
            " 1   Category    615 non-null    object \n",
            " 2   Age         615 non-null    int64  \n",
            " 3   Sex         615 non-null    object \n",
            " 4   ALB         613 non-null    float64\n",
            " 5   ALP         595 non-null    float64\n",
            " 6   ALT         612 non-null    float64\n",
            " 7   AST         613 non-null    float64\n",
            " 8   BIL         615 non-null    float64\n",
            " 9   CHE         615 non-null    float64\n",
            " 10  CHOL        604 non-null    float64\n",
            " 11  CREA        614 non-null    float64\n",
            " 12  GGT         615 non-null    float64\n",
            " 13  PROT        614 non-null    float64\n",
            "dtypes: float64(10), int64(2), object(2)\n",
            "memory usage: 67.4+ KB\n"
          ]
        }
      ]
    },
    {
      "cell_type": "code",
      "source": [
        "d.isnull().sum()"
      ],
      "metadata": {
        "colab": {
          "base_uri": "https://localhost:8080/"
        },
        "id": "ee1MOh0cNLkT",
        "outputId": "3f039761-accf-460e-fc7c-0f9008a05508"
      },
      "execution_count": 6,
      "outputs": [
        {
          "output_type": "execute_result",
          "data": {
            "text/plain": [
              "Unnamed: 0     0\n",
              "Category       0\n",
              "Age            0\n",
              "Sex            0\n",
              "ALB            2\n",
              "ALP           20\n",
              "ALT            3\n",
              "AST            2\n",
              "BIL            0\n",
              "CHE            0\n",
              "CHOL          11\n",
              "CREA           1\n",
              "GGT            0\n",
              "PROT           1\n",
              "dtype: int64"
            ]
          },
          "metadata": {},
          "execution_count": 6
        }
      ]
    },
    {
      "cell_type": "markdown",
      "source": [
        "Handling missing values"
      ],
      "metadata": {
        "id": "Aohr5xR_-Blo"
      }
    },
    {
      "cell_type": "code",
      "source": [
        "d.fillna(d.mean(), inplace=True)\n"
      ],
      "metadata": {
        "colab": {
          "base_uri": "https://localhost:8080/"
        },
        "id": "RnCNRcbANhyT",
        "outputId": "908756c2-4da4-405d-ffba-6b2b9776a075"
      },
      "execution_count": 7,
      "outputs": [
        {
          "output_type": "stream",
          "name": "stderr",
          "text": [
            "<ipython-input-7-ab43919c5303>:1: FutureWarning: The default value of numeric_only in DataFrame.mean is deprecated. In a future version, it will default to False. In addition, specifying 'numeric_only=None' is deprecated. Select only valid columns or specify the value of numeric_only to silence this warning.\n",
            "  d.fillna(d.mean(), inplace=True)\n"
          ]
        }
      ]
    },
    {
      "cell_type": "markdown",
      "source": [
        "plotting linear regression\n"
      ],
      "metadata": {
        "id": "8zM7gJMN-Mki"
      }
    },
    {
      "cell_type": "code",
      "source": [
        "from sklearn.model_selection import train_test_split\n",
        "from sklearn.linear_model import LinearRegression\n",
        "from sklearn.metrics import mean_squared_error, r2_score\n",
        "X = d[['CREA']]\n",
        "y = d['PROT']\n",
        "X_train, X_test, y_train, y_test = train_test_split(X, y, test_size=0.2, random_state=42)\n",
        "\n",
        "lm = LinearRegression()\n",
        "lm.fit(X_train, y_train)\n",
        "\n",
        "y_pred_train = lm.predict(X_train)\n",
        "y_pred_test = lm.predict(X_test)\n",
        "\n",
        "mse_train = mean_squared_error(y_train, y_pred_train)\n",
        "mse_test = mean_squared_error(y_test, y_pred_test)\n",
        "r2_train = r2_score(y_train, y_pred_train)\n",
        "r2_test = r2_score(y_test, y_pred_test)\n",
        "\n",
        "print(\"Intercept:\", lm.intercept_)\n",
        "print(\"Coefficient (CREA):\", lm.coef_[0])\n",
        "\n",
        "print(\"MSE (Train):\", mse_train)\n",
        "print(\"MSE (Test):\", mse_test)\n",
        "print(\"R-squared (Train):\", r2_train)\n",
        "print(\"R-squared (Test):\", r2_test)\n",
        "\n",
        "# Plotting the regression line\n",
        "plt.scatter(X_test, y_test, color='black', label='Actual data')\n",
        "plt.plot(X_test, y_pred_test, color='blue', linewidth=3, label='Regression line')\n",
        "plt.title('Simple Linear Regression: CREA vs. PROT')\n",
        "plt.xlabel('CREA')\n",
        "plt.ylabel('PROT')\n",
        "plt.legend()\n",
        "plt.show()"
      ],
      "metadata": {
        "colab": {
          "base_uri": "https://localhost:8080/",
          "height": 576
        },
        "id": "C930RhIxNlzy",
        "outputId": "c06b0f7c-61d2-46ab-8612-e4be0a41da52"
      },
      "execution_count": 8,
      "outputs": [
        {
          "output_type": "stream",
          "name": "stdout",
          "text": [
            "Intercept: 72.25442086883274\n",
            "Coefficient (CREA): -0.003914818664546755\n",
            "MSE (Train): 28.429575138093043\n",
            "MSE (Test): 31.659951887601213\n",
            "R-squared (Train): 0.0016145243641475515\n",
            "R-squared (Test): -0.01050893132580022\n"
          ]
        },
        {
          "output_type": "display_data",
          "data": {
            "text/plain": [
              "<Figure size 640x480 with 1 Axes>"
            ],
            "image/png": "[encoded data removed]"
          },
          "metadata": {}
        }
      ]
    },
    {
      "cell_type": "markdown",
      "source": [
        "we can see that linear regression does not form a good fit line."
      ],
      "metadata": {
        "id": "kzyM7fYB-R4a"
      }
    },
    {
      "cell_type": "code",
      "source": [
        "from statsmodels.stats.outliers_influence import variance_inflation_factor\n",
        "selected_columns = d.columns.difference(['Patient ID/No.', 'Category', 'Age', 'Sex'])\n",
        "\n",
        "X_vif = d[selected_columns]\n",
        "vif_data = pd.DataFrame()\n",
        "vif_data[\"Variable\"] = selected_columns\n",
        "vif_data[\"VIF\"] = [variance_inflation_factor(X_vif.values, i) for i in range(X_vif.shape[1])]\n",
        "\n",
        "print(vif_data)\n",
        "final_predictors = vif_data[vif_data['VIF'] < 5]['Variable']\n",
        "print(\"Final List of Predictors:\", final_predictors.tolist())\n"
      ],
      "metadata": {
        "colab": {
          "base_uri": "https://localhost:8080/"
        },
        "id": "AUYmWBcmNtQv",
        "outputId": "e53ab923-cfc8-4043-d910-06f2b431b38a"
      },
      "execution_count": 9,
      "outputs": [
        {
          "output_type": "stream",
          "name": "stdout",
          "text": [
            "      Variable         VIF\n",
            "0          ALB   91.848300\n",
            "1          ALP   10.524429\n",
            "2          ALT    2.711856\n",
            "3          AST    3.621866\n",
            "4          BIL    1.647761\n",
            "5          CHE   22.813947\n",
            "6         CHOL   30.465820\n",
            "7         CREA    3.784397\n",
            "8          GGT    2.667932\n",
            "9         PROT  138.129550\n",
            "10  Unnamed: 0    4.821647\n",
            "Final List of Predictors: ['ALT', 'AST', 'BIL', 'CREA', 'GGT', 'Unnamed: 0']\n"
          ]
        }
      ]
    },
    {
      "cell_type": "code",
      "source": [
        "correlation_matrix = d[['ALB', 'ALP', 'CHE', 'CHOL', 'PROT']].corr()\n",
        "print(correlation_matrix)"
      ],
      "metadata": {
        "colab": {
          "base_uri": "https://localhost:8080/"
        },
        "id": "S17bapmkN644",
        "outputId": "111c8c86-61cc-4576-a0ca-4f5f3f68cd9b"
      },
      "execution_count": 10,
      "outputs": [
        {
          "output_type": "stream",
          "name": "stdout",
          "text": [
            "           ALB       ALP       CHE      CHOL      PROT\n",
            "ALB   1.000000 -0.142307  0.375729  0.204540  0.549904\n",
            "ALP  -0.142307  1.000000  0.030682  0.121273 -0.055331\n",
            "CHE   0.375729  0.030682  1.000000  0.420051  0.293184\n",
            "CHOL  0.204540  0.121273  0.420051  1.000000  0.206623\n",
            "PROT  0.549904 -0.055331  0.293184  0.206623  1.000000\n"
          ]
        }
      ]
    },
    {
      "cell_type": "code",
      "source": [
        "from sklearn.model_selection import train_test_split\n",
        "X = d.drop(['PROT'], axis=1)  # Adjust columns accordingly\n",
        "y = d['PROT']\n",
        "\n",
        "# Split the data into training and testing sets (80% training, 20% testing)\n",
        "X_train, X_test, y_train, y_test = train_test_split(X, y, test_size=0.2, random_state=42)\n",
        "\n",
        "# Check the shape of the resulting datasets\n",
        "print(\"Training set - Features:\", X_train.shape)\n",
        "print(\"Testing set - Features:\", X_test.shape)\n",
        "print(\"Training set - Target:\", y_train.shape)\n",
        "print(\"Testing set - Target:\", y_test.shape)\n"
      ],
      "metadata": {
        "colab": {
          "base_uri": "https://localhost:8080/"
        },
        "id": "lelCYvvAOvL3",
        "outputId": "8386711a-7883-4d57-9227-b8a4e7cdc6f7"
      },
      "execution_count": 11,
      "outputs": [
        {
          "output_type": "stream",
          "name": "stdout",
          "text": [
            "Training set - Features: (492, 13)\n",
            "Testing set - Features: (123, 13)\n",
            "Training set - Target: (492,)\n",
            "Testing set - Target: (123,)\n"
          ]
        }
      ]
    },
    {
      "cell_type": "code",
      "source": [
        "from sklearn.linear_model import LinearRegression\n",
        "from sklearn.metrics import mean_squared_error, r2_score\n",
        "\n",
        "X_train_selected = X_train[['ALT', 'AST', 'BIL', 'CREA', 'GGT', 'Unnamed: 0']]\n",
        "model = LinearRegression()\n",
        "model.fit(X_train_selected, y_train)\n",
        "\n",
        "y_train_pred = model.predict(X_train_selected)\n",
        "print(\"Training Set Metrics:\")\n",
        "print(\"Mean Squared Error:\", mean_squared_error(y_train, y_train_pred))\n",
        "print(\"R-squared:\", r2_score(y_train, y_train_pred))\n",
        "\n",
        "X_test_selected = X_test[['ALT', 'AST', 'BIL', 'CREA', 'GGT', 'Unnamed: 0']]\n",
        "y_test_pred = model.predict(X_test_selected)\n",
        "print(\"\\nTesting Set Metrics:\")\n",
        "print(\"Mean Squared Error:\", mean_squared_error(y_test, y_test_pred))\n",
        "print(\"R-squared:\", r2_score(y_test, y_test_pred))\n"
      ],
      "metadata": {
        "colab": {
          "base_uri": "https://localhost:8080/"
        },
        "id": "X-ZMK2YyQj5s",
        "outputId": "d820831f-c163-49b3-8c52-0401f3802216"
      },
      "execution_count": 12,
      "outputs": [
        {
          "output_type": "stream",
          "name": "stdout",
          "text": [
            "Training Set Metrics:\n",
            "Mean Squared Error: 27.563578383755367\n",
            "R-squared: 0.03202646605792403\n",
            "\n",
            "Testing Set Metrics:\n",
            "Mean Squared Error: 32.923439718214624\n",
            "R-squared: -0.05083640061536432\n"
          ]
        }
      ]
    },
    {
      "cell_type": "markdown",
      "source": [
        "polynomial regression"
      ],
      "metadata": {
        "id": "Qc23g6Bw-hCn"
      }
    },
    {
      "cell_type": "code",
      "source": [
        "from sklearn.preprocessing import PolynomialFeatures\n",
        "from sklearn.linear_model import LinearRegression\n",
        "from sklearn.metrics import mean_squared_error, r2_score\n",
        "import numpy as np\n",
        "\n",
        "X_poly = d[['ALB', 'ALP', 'CHE', 'CHOL', 'PROT']].values\n",
        "y_poly = d['PROT'].values\n",
        "\n",
        "# Split the data into training and testing sets\n",
        "X_poly_train, X_poly_test, y_poly_train, y_poly_test = train_test_split(X_poly, y_poly, test_size=0.2, random_state=42)\n",
        "\n",
        "# Specify degrees for polynomial features\n",
        "degrees = [2, 3, 4]  # You can choose other degrees as well\n",
        "\n",
        "for degree in degrees:\n",
        "    # Create polynomial features\n",
        "    poly = PolynomialFeatures(degree=degree)\n",
        "    X_poly_train_transformed = poly.fit_transform(X_poly_train)\n",
        "    X_poly_test_transformed = poly.transform(X_poly_test)\n",
        "\n",
        "    # Initialize linear regression model\n",
        "    model_poly = LinearRegression()\n",
        "\n",
        "    # Fit the model to the transformed training data\n",
        "    model_poly.fit(X_poly_train_transformed, y_poly_train)\n",
        "\n",
        "    # Predict the target variable on the transformed testing set\n",
        "    y_poly_test_pred = model_poly.predict(X_poly_test_transformed)\n",
        "\n",
        "    # Evaluate the model\n",
        "    print(f\"\\nPolynomial Regression (Degree {degree}):\")\n",
        "    print(\"Mean Squared Error:\", mean_squared_error(y_poly_test, y_poly_test_pred))\n",
        "    print(\"R-squared:\", r2_score(y_poly_test, y_poly_test_pred))\n"
      ],
      "metadata": {
        "colab": {
          "base_uri": "https://localhost:8080/"
        },
        "id": "gNv7STDXSPon",
        "outputId": "2eafdfe5-0653-4ebd-8866-570da77047e8"
      },
      "execution_count": 13,
      "outputs": [
        {
          "output_type": "stream",
          "name": "stdout",
          "text": [
            "\n",
            "Polynomial Regression (Degree 2):\n",
            "Mean Squared Error: 2.987317480121237e-26\n",
            "R-squared: 1.0\n",
            "\n",
            "Polynomial Regression (Degree 3):\n",
            "Mean Squared Error: 1.231629686355519e-19\n",
            "R-squared: 1.0\n",
            "\n",
            "Polynomial Regression (Degree 4):\n",
            "Mean Squared Error: 3.7328651334460043e-17\n",
            "R-squared: 1.0\n"
          ]
        }
      ]
    },
    {
      "cell_type": "code",
      "source": [
        "from sklearn.linear_model import Ridge\n",
        "from sklearn.model_selection import train_test_split\n",
        "from sklearn.metrics import mean_squared_error, r2_score"
      ],
      "metadata": {
        "id": "XkOSgWYM_hmC"
      },
      "execution_count": 15,
      "outputs": []
    },
    {
      "cell_type": "code",
      "source": [
        "import pandas as pd\n",
        "from sklearn.preprocessing import OneHotEncoder\n",
        "\n",
        "# Assuming 'df' is your DataFrame and 'categorical_columns' is a list of columns to encode\n",
        "categorical_columns = ['Category', 'Sex']  # Add other categorical columns if present\n",
        "\n",
        "# Create a copy of the original DataFrame\n",
        "d_encoded = d.copy()\n",
        "\n",
        "# Apply OneHotEncoder to each categorical column\n",
        "for column in categorical_columns:\n",
        "    encoder = OneHotEncoder(sparse=False, drop='first')  # Use drop='first' to avoid multicollinearity\n",
        "    encoded_values = encoder.fit_transform(d[[column]])\n",
        "\n",
        "    # Create new column names\n",
        "    new_columns = [f\"{column}_{value}\" for value in encoder.get_feature_names_out([column])]\n",
        "\n",
        "    # Replace the original column with the encoded values\n",
        "    d_encoded = pd.concat([d_encoded, pd.DataFrame(encoded_values, columns=new_columns)], axis=1)\n",
        "    d_encoded.drop(column, axis=1, inplace=True)\n",
        "\n",
        "# Display the resulting DataFrame with categorical columns converted to numerical\n",
        "print(d_encoded.head())\n"
      ],
      "metadata": {
        "colab": {
          "base_uri": "https://localhost:8080/"
        },
        "id": "hvKpZmXqAQBN",
        "outputId": "655438c2-4b64-488b-b715-918ff8b7c7fe"
      },
      "execution_count": 22,
      "outputs": [
        {
          "output_type": "stream",
          "name": "stdout",
          "text": [
            "   Unnamed: 0  Age   ALB   ALP   ALT   AST   BIL    CHE  CHOL   CREA   GGT  \\\n",
            "0           1   32  38.5  52.5   7.7  22.1   7.5   6.93  3.23  106.0  12.1   \n",
            "1           2   32  38.5  70.3  18.0  24.7   3.9  11.17  4.80   74.0  15.6   \n",
            "2           3   32  46.9  74.7  36.2  52.6   6.1   8.84  5.20   86.0  33.2   \n",
            "3           4   32  43.2  52.0  30.6  22.6  18.9   7.33  4.74   80.0  33.8   \n",
            "4           5   32  39.2  74.1  32.6  24.8   9.6   9.15  4.32   76.0  29.9   \n",
            "\n",
            "   PROT  Category_Category_0s=suspect Blood Donor  \\\n",
            "0  69.0                                       0.0   \n",
            "1  76.5                                       0.0   \n",
            "2  79.3                                       0.0   \n",
            "3  75.7                                       0.0   \n",
            "4  68.7                                       0.0   \n",
            "\n",
            "   Category_Category_1=Hepatitis  Category_Category_2=Fibrosis  \\\n",
            "0                            0.0                           0.0   \n",
            "1                            0.0                           0.0   \n",
            "2                            0.0                           0.0   \n",
            "3                            0.0                           0.0   \n",
            "4                            0.0                           0.0   \n",
            "\n",
            "   Category_Category_3=Cirrhosis  Sex_Sex_m  \n",
            "0                            0.0        1.0  \n",
            "1                            0.0        1.0  \n",
            "2                            0.0        1.0  \n",
            "3                            0.0        1.0  \n",
            "4                            0.0        1.0  \n"
          ]
        },
        {
          "output_type": "stream",
          "name": "stderr",
          "text": [
            "/usr/local/lib/python3.10/dist-packages/sklearn/preprocessing/_encoders.py:868: FutureWarning: `sparse` was renamed to `sparse_output` in version 1.2 and will be removed in 1.4. `sparse_output` is ignored unless you leave `sparse` to its default value.\n",
            "  warnings.warn(\n",
            "/usr/local/lib/python3.10/dist-packages/sklearn/preprocessing/_encoders.py:868: FutureWarning: `sparse` was renamed to `sparse_output` in version 1.2 and will be removed in 1.4. `sparse_output` is ignored unless you leave `sparse` to its default value.\n",
            "  warnings.warn(\n"
          ]
        }
      ]
    },
    {
      "cell_type": "code",
      "source": [
        "d.info()"
      ],
      "metadata": {
        "colab": {
          "base_uri": "https://localhost:8080/"
        },
        "id": "o5VVpr8PAzAY",
        "outputId": "b392a257-e476-40f5-c223-51c21c84fa85"
      },
      "execution_count": 25,
      "outputs": [
        {
          "output_type": "stream",
          "name": "stdout",
          "text": [
            "<class 'pandas.core.frame.DataFrame'>\n",
            "RangeIndex: 615 entries, 0 to 614\n",
            "Data columns (total 14 columns):\n",
            " #   Column      Non-Null Count  Dtype  \n",
            "---  ------      --------------  -----  \n",
            " 0   Unnamed: 0  615 non-null    int64  \n",
            " 1   Category    615 non-null    object \n",
            " 2   Age         615 non-null    int64  \n",
            " 3   Sex         615 non-null    object \n",
            " 4   ALB         615 non-null    float64\n",
            " 5   ALP         615 non-null    float64\n",
            " 6   ALT         615 non-null    float64\n",
            " 7   AST         615 non-null    float64\n",
            " 8   BIL         615 non-null    float64\n",
            " 9   CHE         615 non-null    float64\n",
            " 10  CHOL        615 non-null    float64\n",
            " 11  CREA        615 non-null    float64\n",
            " 12  GGT         615 non-null    float64\n",
            " 13  PROT        615 non-null    float64\n",
            "dtypes: float64(10), int64(2), object(2)\n",
            "memory usage: 67.4+ KB\n"
          ]
        }
      ]
    },
    {
      "cell_type": "code",
      "source": [
        "X_ridge = d.drop(['PROT'], axis=1)\n",
        "y_ridge = d['PROT']\n",
        "\n",
        "X_ridge_train, X_ridge_test, y_ridge_train, y_ridge_test = train_test_split(X_ridge, y_ridge, test_size=0.2, random_state=42)\n",
        "\n"
      ],
      "metadata": {
        "id": "xVNC5oDFS-bc"
      },
      "execution_count": 26,
      "outputs": []
    },
    {
      "cell_type": "code",
      "source": [
        "print(X_ridge_train.dtypes)\n",
        "print(X_ridge_test.dtypes)\n"
      ],
      "metadata": {
        "colab": {
          "base_uri": "https://localhost:8080/"
        },
        "id": "ICw4LG_fBUew",
        "outputId": "d11bcf4d-2611-49ed-81cc-14a0cee7ebad"
      },
      "execution_count": 28,
      "outputs": [
        {
          "output_type": "stream",
          "name": "stdout",
          "text": [
            "Unnamed: 0      int64\n",
            "Category       object\n",
            "Age             int64\n",
            "Sex            object\n",
            "ALB           float64\n",
            "ALP           float64\n",
            "ALT           float64\n",
            "AST           float64\n",
            "BIL           float64\n",
            "CHE           float64\n",
            "CHOL          float64\n",
            "CREA          float64\n",
            "GGT           float64\n",
            "dtype: object\n",
            "Unnamed: 0      int64\n",
            "Category       object\n",
            "Age             int64\n",
            "Sex            object\n",
            "ALB           float64\n",
            "ALP           float64\n",
            "ALT           float64\n",
            "AST           float64\n",
            "BIL           float64\n",
            "CHE           float64\n",
            "CHOL          float64\n",
            "CREA          float64\n",
            "GGT           float64\n",
            "dtype: object\n"
          ]
        }
      ]
    },
    {
      "cell_type": "code",
      "source": [
        "print(X_ridge_train['Category'].unique())\n",
        "print(X_ridge_train['Sex'].unique())\n",
        "\n",
        "print(X_ridge_test['Category'].unique())\n",
        "print(X_ridge_test['Sex'].unique())\n"
      ],
      "metadata": {
        "colab": {
          "base_uri": "https://localhost:8080/"
        },
        "id": "S4qhYDCABeeF",
        "outputId": "835cc945-27b7-47ef-8e1b-f3060f71046a"
      },
      "execution_count": 29,
      "outputs": [
        {
          "output_type": "stream",
          "name": "stdout",
          "text": [
            "['0=Blood Donor' '2=Fibrosis' '3=Cirrhosis' '1=Hepatitis'\n",
            " '0s=suspect Blood Donor']\n",
            "['m' 'f']\n",
            "['0=Blood Donor' '3=Cirrhosis' '1=Hepatitis' '2=Fibrosis'\n",
            " '0s=suspect Blood Donor']\n",
            "['m' 'f']\n"
          ]
        }
      ]
    },
    {
      "cell_type": "code",
      "source": [
        "from sklearn.model_selection import train_test_split\n",
        "\n",
        "# Split the data into training and testing sets (80% training, 20% testing)\n",
        "X_train, X_test, y_train, y_test = train_test_split(X, y, test_size=0.2, random_state=42)\n",
        "\n",
        "# Apply one-hot encoding to categorical columns\n",
        "X_train = pd.get_dummies(X_train, columns=['Category', 'Sex'])\n",
        "X_test = pd.get_dummies(X_test, columns=['Category', 'Sex'])\n"
      ],
      "metadata": {
        "id": "MtIyL0foBlvy"
      },
      "execution_count": 30,
      "outputs": []
    },
    {
      "cell_type": "code",
      "source": [
        "from sklearn.linear_model import Ridge\n",
        "\n",
        "alphas = np.linspace(0.1, 150, 13)\n",
        "\n",
        "for alpha in alphas:\n",
        "    model_ridge = Ridge(alpha=alpha)\n",
        "\n",
        "    # Fit the model to the training data\n",
        "    model_ridge.fit(X_train, y_train)\n",
        "\n",
        "    # Predict the target variable on the testing set\n",
        "    y_test_pred = model_ridge.predict(X_test)\n",
        "\n",
        "    print(f\"\\nRidge Regression (Alpha {alpha}):\")\n",
        "    print(\"Mean Squared Error:\", mean_squared_error(y_test, y_test_pred))\n",
        "    print(\"R-squared:\", r2_score(y_test, y_test_pred))\n"
      ],
      "metadata": {
        "id": "YpJ9AqSVS-uI",
        "colab": {
          "base_uri": "https://localhost:8080/"
        },
        "outputId": "39bff06c-bf37-4c9b-e2f3-f2886d3f4457"
      },
      "execution_count": 32,
      "outputs": [
        {
          "output_type": "stream",
          "name": "stdout",
          "text": [
            "\n",
            "Ridge Regression (Alpha 0.1):\n",
            "Mean Squared Error: 21.20491655748291\n",
            "R-squared: 0.3231904569714005\n",
            "\n",
            "Ridge Regression (Alpha 12.591666666666667):\n",
            "Mean Squared Error: 20.942626970440486\n",
            "R-squared: 0.33156210488928384\n",
            "\n",
            "Ridge Regression (Alpha 25.083333333333336):\n",
            "Mean Squared Error: 21.542280288250446\n",
            "R-squared: 0.3124226243399335\n",
            "\n",
            "Ridge Regression (Alpha 37.575):\n",
            "Mean Squared Error: 21.84070358437484\n",
            "R-squared: 0.3028976760039418\n",
            "\n",
            "Ridge Regression (Alpha 50.06666666666667):\n",
            "Mean Squared Error: 22.016235420949197\n",
            "R-squared: 0.29729512520979884\n",
            "\n",
            "Ridge Regression (Alpha 62.55833333333334):\n",
            "Mean Squared Error: 22.13057949411114\n",
            "R-squared: 0.2936455395255083\n",
            "\n",
            "Ridge Regression (Alpha 75.05):\n",
            "Mean Squared Error: 22.21011348888886\n",
            "R-squared: 0.29110700717548343\n",
            "\n",
            "Ridge Regression (Alpha 87.54166666666666):\n",
            "Mean Squared Error: 22.267965309586344\n",
            "R-squared: 0.28926051727190405\n",
            "\n",
            "Ridge Regression (Alpha 100.03333333333333):\n",
            "Mean Squared Error: 22.31140331515534\n",
            "R-squared: 0.2878740814130537\n",
            "\n",
            "Ridge Regression (Alpha 112.525):\n",
            "Mean Squared Error: 22.344779341375396\n",
            "R-squared: 0.2868087995482148\n",
            "\n",
            "Ridge Regression (Alpha 125.01666666666667):\n",
            "Mean Squared Error: 22.370859739332204\n",
            "R-squared: 0.28597637645542395\n",
            "\n",
            "Ridge Regression (Alpha 137.50833333333333):\n",
            "Mean Squared Error: 22.39148809921171\n",
            "R-squared: 0.2853179692041796\n",
            "\n",
            "Ridge Regression (Alpha 150.0):\n",
            "Mean Squared Error: 22.407940949226134\n",
            "R-squared: 0.28479283410781675\n"
          ]
        }
      ]
    },
    {
      "cell_type": "code",
      "source": [
        "from sklearn.linear_model import LassoCV\n",
        "from sklearn.model_selection import train_test_split\n",
        "from sklearn.metrics import mean_squared_error, r2_score\n",
        "import numpy as np\n",
        "\n",
        "# Assuming X_lasso_train and y_lasso_train are your training data\n",
        "# X_lasso_train should only contain the selected predictor with the highest VIF\n",
        "\n",
        "# Split the data into training and testing sets\n",
        "X_lasso_train, X_lasso_test, y_lasso_train, y_lasso_test = train_test_split(\n",
        "    X_ridge[['AST']], y_ridge, test_size=0.2, random_state=42\n",
        ")\n",
        "\n",
        "# Specify alphas for LASSO\n",
        "alphas_lasso = np.linspace(0.1, 100, 100)\n",
        "\n",
        "# Create LASSO model with cross-validation\n",
        "lasso_cv = LassoCV(alphas=alphas_lasso, cv=5)\n",
        "lasso_cv.fit(X_lasso_train, y_lasso_train)\n",
        "\n",
        "# Predict the target variable on the testing set\n",
        "y_lasso_test_pred = lasso_cv.predict(X_lasso_test)\n",
        "\n",
        "# Evaluate the model\n",
        "print(f\"\\nLASSO Regression with Cross-Validation:\")\n",
        "print(\"Best Alpha:\", lasso_cv.alpha_)\n",
        "print(\"Mean Squared Error:\", mean_squared_error(y_lasso_test, y_lasso_test_pred))\n",
        "print(\"R-squared:\", r2_score(y_lasso_test, y_lasso_test_pred))\n"
      ],
      "metadata": {
        "colab": {
          "base_uri": "https://localhost:8080/"
        },
        "id": "3QD-YI4SCuXf",
        "outputId": "a2669f35-1033-4a1e-def4-a5ff4dbecc84"
      },
      "execution_count": 33,
      "outputs": [
        {
          "output_type": "stream",
          "name": "stdout",
          "text": [
            "\n",
            "LASSO Regression with Cross-Validation:\n",
            "Best Alpha: 100.0\n",
            "Mean Squared Error: 31.624271067002006\n",
            "R-squared: -0.009370086010414669\n"
          ]
        }
      ]
    },
    {
      "cell_type": "code",
      "source": [
        "from sklearn.pipeline import make_pipeline\n"
      ],
      "metadata": {
        "id": "BZu3m0fmPxfQ"
      },
      "execution_count": 38,
      "outputs": []
    },
    {
      "cell_type": "code",
      "source": [
        "alphas_ridge = np.linspace(0.1, 150, 13)\n",
        "ridge_cv = RidgeCV(alphas=alphas_ridge, cv=5)\n",
        "ridge_cv.fit(X_train, y_train)\n",
        "\n",
        "# LASSO Regression\n",
        "alphas_lasso = np.linspace(0.1, 100, 100)\n",
        "lasso_cv = LassoCV(alphas=alphas_lasso, cv=5)\n",
        "lasso_cv.fit(X_train, y_train)\n",
        "\n",
        "# Polynomial Regression\n",
        "degree = 2\n",
        "poly_model = make_pipeline(PolynomialFeatures(degree), LinearRegression())\n",
        "poly_model.fit(X_train, y_train)\n",
        "\n",
        "models = {'Ridge Regression': ridge_cv, 'LASSO Regression': lasso_cv, 'Polynomial Regression': poly_model}\n",
        "for model_name, model in models.items():\n",
        "    y_train_pred = model.predict(X_train)\n",
        "    y_test_pred = model.predict(X_test)\n",
        "\n",
        "    mse_train = mean_squared_error(y_train, y_train_pred)\n",
        "    mse_test = mean_squared_error(y_test, y_test_pred)\n",
        "    r2_train = r2_score(y_train, y_train_pred)\n",
        "    r2_test = r2_score(y_test, y_test_pred)\n",
        "\n",
        "    print(f\"\\n{model_name}:\")\n",
        "    print(\"Mean Squared Error (Train):\", mse_train)\n",
        "    print(\"Mean Squared Error (Test):\", mse_test)\n",
        "    print(\"R-squared (Train):\", r2_train)\n",
        "    print(\"R-squared (Test):\", r2_test)\n",
        "\n",
        "    if isinstance(model, RidgeCV) or isinstance(model, LinearRegression):\n",
        "        print(\"Intercept:\", model.intercept_)\n",
        "        print(\"Coefficients:\", model.coef_)\n",
        "\n",
        "# Comparative analysis graph\n",
        "plt.figure(figsize=(10, 6))\n",
        "for model_name, model in models.items():\n",
        "    y_pred = model.predict(X_test)\n",
        "    plt.scatter(y_test, y_pred, label=model_name)\n",
        "\n",
        "plt.plot([min(y_test), max(y_test)], [min(y_test), max(y_test)], linestyle='--', color='black', label='Perfect Fit')\n",
        "plt.xlabel('Actual Values')\n",
        "plt.ylabel('Predicted Values')\n",
        "plt.title('Comparative Analysis of Regression Models')\n",
        "plt.legend()\n",
        "plt.show()"
      ],
      "metadata": {
        "colab": {
          "base_uri": "https://localhost:8080/",
          "height": 980
        },
        "id": "sxLVgJDUO8vQ",
        "outputId": "2118f9ff-d03d-41d3-93d2-4b8cd8028d57"
      },
      "execution_count": 39,
      "outputs": [
        {
          "output_type": "stream",
          "name": "stdout",
          "text": [
            "\n",
            "Ridge Regression:\n",
            "Mean Squared Error (Train): 15.763298752256164\n",
            "Mean Squared Error (Test): 21.20491655748291\n",
            "R-squared (Train): 0.4464268830639673\n",
            "R-squared (Test): 0.3231904569714005\n",
            "Intercept: 49.86162084197446\n",
            "Coefficients: [-5.53517120e-03 -9.70922905e-03  4.27236014e-01  9.04825666e-03\n",
            "  6.14612663e-03  1.29783158e-02 -1.19214811e-03  3.79210978e-01\n",
            "  4.85449360e-01 -7.64528435e-03  3.37591411e-03 -2.55541735e-01\n",
            " -1.29582009e+01  3.93265217e+00  4.54773843e+00  4.73335201e+00\n",
            "  8.82708446e-01 -8.82708446e-01]\n",
            "\n",
            "LASSO Regression:\n",
            "Mean Squared Error (Train): 17.672366238797142\n",
            "Mean Squared Error (Test): 22.63748580466971\n",
            "R-squared (Train): 0.3793845427787863\n",
            "R-squared (Test): 0.2774663186605062\n",
            "\n",
            "Polynomial Regression:\n",
            "Mean Squared Error (Train): 8.583718578802875\n",
            "Mean Squared Error (Test): 651.4180208106865\n",
            "R-squared (Train): 0.6985582825492324\n",
            "R-squared (Test): -19.79168440914676\n"
          ]
        },
        {
          "output_type": "display_data",
          "data": {
            "text/plain": [
              "<Figure size 1000x600 with 1 Axes>"
            ],
            "image/png": "[encoded data removed]"
          },
          "metadata": {}
        }
      ]
    },
    {
      "cell_type": "code",
      "source": [],
      "metadata": {
        "id": "sELJfmquPfOr"
      },
      "execution_count": null,
      "outputs": []
    }
  ]
}